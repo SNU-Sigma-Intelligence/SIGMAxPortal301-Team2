{
 "cells": [
  {
   "cell_type": "code",
   "execution_count": null,
   "id": "7aab87a2",
   "metadata": {},
   "outputs": [],
   "source": [
    "import cv2\n",
    "import numpy as np\n",
    "import glob\n",
    "from cameraCalibration import *\n",
    "\n",
    "import importlib.util\n",
    "\n",
    "\n",
    "module_name = \"wrapper\"  # can be anything\n",
    "file_path = r\"C:\\Users\\tad1i\\projects\\SIGMAxPortal301-Team2\\src\\wrapper.py\"\n",
    "\n",
    "spec = importlib.util.spec_from_file_location(module_name, file_path)\n",
    "src = importlib.util.module_from_spec(spec)\n",
    "spec.loader.exec_module(src)\n",
    "\n",
    "\n",
    "\n",
    "\n"
   ]
  },
  {
   "cell_type": "code",
   "execution_count": 29,
   "id": "ad319abf",
   "metadata": {},
   "outputs": [
    {
     "name": "stdout",
     "output_type": "stream",
     "text": [
      "Camera matrix:\n",
      " [[925.58276326   0.         611.31011179]\n",
      " [  0.         922.79772745 485.46757544]\n",
      " [  0.           0.           1.        ]]\n",
      "Distortion coefficients:\n",
      " [[ 0.07650851 -0.12151219  0.00055373 -0.00617119 -0.09118735]]\n",
      "Total reprojection error: 0.1422222454090928\n",
      "Original FPS: 30.0, Duration: 231.70s, Total frames: 6951\n",
      "Saved 232 frames to './chessboard pictures'\n"
     ]
    }
   ],
   "source": [
    "imagesPath = \"./chessboard pictures\"\n",
    "area = 4\n",
    "calibrate_camera(imagesPath, area)\n",
    "\n",
    "\n",
    "videoPath = r\"C:\\Users\\tad1i\\projects\\SIGMAxPortal301-Team2\\T1\\TAD\\chessboard pictures\\video.mp4\"\n",
    "extract_frames(videoPath, imagesPath, 1)\n"
   ]
  },
  {
   "cell_type": "code",
   "execution_count": null,
   "id": "bf512f9a",
   "metadata": {},
   "outputs": [],
   "source": []
  }
 ],
 "metadata": {
  "kernelspec": {
   "display_name": "env",
   "language": "python",
   "name": "python3"
  },
  "language_info": {
   "codemirror_mode": {
    "name": "ipython",
    "version": 3
   },
   "file_extension": ".py",
   "mimetype": "text/x-python",
   "name": "python",
   "nbconvert_exporter": "python",
   "pygments_lexer": "ipython3",
   "version": "3.12.2"
  }
 },
 "nbformat": 4,
 "nbformat_minor": 5
}
