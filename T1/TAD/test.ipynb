{
 "cells": [
  {
   "cell_type": "code",
   "execution_count": null,
   "id": "7aab87a2",
   "metadata": {},
   "outputs": [],
   "source": [
    "import cv2\n",
    "import numpy as np\n",
    "import glob\n",
    "from cameraCalibration import *\n",
    "import sys\n",
    "import os\n",
    "import importlib.util\n",
    "\n",
    "\n",
    "# src_dir = r\"C:\\Users\\tad1i\\projects\\SIGMAxPortal301-Team2\\src\"\n",
    "\n",
    "# sys.path.append(src_dir)\n",
    "\n",
    "# src_path = r\"C:\\Users\\tad1i\\projects\\SIGMAxPortal301-Team2\\src\\wrapper.py\"\n",
    "# spec = importlib.util.spec_from_file_location(\"wrapper\", src_path)\n",
    "# wrapper = importlib.util.module_from_spec(spec)\n",
    "# spec.loader.exec_module(wrapper)\n",
    "\n",
    " \n",
    "\n",
    "\n",
    "\n",
    "\n",
    "\n",
    "\n"
   ]
  },
  {
   "cell_type": "code",
   "execution_count": null,
   "id": "ad319abf",
   "metadata": {},
   "outputs": [
    {
     "name": "stdout",
     "output_type": "stream",
     "text": [
      "Exists: True\n",
      "Files: ['frame_00000.jpg', 'frame_00029.jpg', 'frame_00058.jpg', 'frame_00087.jpg', 'frame_00116.jpg', 'frame_00145.jpg', 'frame_00174.jpg', 'frame_00203.jpg', 'frame_00232.jpg', 'frame_00261.jpg', 'frame_00290.jpg', 'frame_00319.jpg', 'frame_00348.jpg', 'frame_00377.jpg', 'frame_00406.jpg', 'frame_00435.jpg', 'frame_00464.jpg', 'frame_00493.jpg', 'frame_00522.jpg', 'frame_00551.jpg', 'frame_00580.jpg', 'frame_00609.jpg', 'frame_00638.jpg', 'frame_00667.jpg', 'frame_00696.jpg', 'frame_00725.jpg', 'frame_00754.jpg', 'frame_00783.jpg', 'frame_00812.jpg', 'frame_00841.jpg', 'frame_00870.jpg', 'frame_00899.jpg', 'frame_00928.jpg', 'frame_00957.jpg', 'frame_00986.jpg']\n",
      "No images found in C:\\Users\\tad1i\\projects\\SIGMAxPortal301-Team2\\T1\\TAD\\chessboard pictures\\exctracted frames\n"
     ]
    }
   ],
   "source": [
    "\n",
    "# videoPath = r\"C:\\Users\\tad1i\\projects\\SIGMAxPortal301-Team2\\T1\\TAD\\chessboard pictures\\video_close.MOV\"\n",
    "# savePath = \"./chessboard pictures/exctracted frames\"\n",
    "# os.makedirs(savePath, exist_ok=True)\n",
    "# wrapper.extract_frames(videoPath, savePath, 1)\n",
    "\n",
    "imagesPath = r\"C:\\Users\\tad1i\\projects\\SIGMAxPortal301-Team2\\T1\\TAD\\chessboard pictures\\exctracted frames\"\n",
    "print(\"Exists:\", os.path.exists(imagesPath))\n",
    "print(\"Files:\", os.listdir(imagesPath))\n",
    "\n",
    "area = 4\n",
    "calibrate_camera(imagesPath, area)\n"
   ]
  },
  {
   "cell_type": "code",
   "execution_count": null,
   "id": "bf512f9a",
   "metadata": {},
   "outputs": [],
   "source": []
  }
 ],
 "metadata": {
  "kernelspec": {
   "display_name": "env",
   "language": "python",
   "name": "python3"
  },
  "language_info": {
   "codemirror_mode": {
    "name": "ipython",
    "version": 3
   },
   "file_extension": ".py",
   "mimetype": "text/x-python",
   "name": "python",
   "nbconvert_exporter": "python",
   "pygments_lexer": "ipython3",
   "version": "3.12.2"
  }
 },
 "nbformat": 4,
 "nbformat_minor": 5
}
