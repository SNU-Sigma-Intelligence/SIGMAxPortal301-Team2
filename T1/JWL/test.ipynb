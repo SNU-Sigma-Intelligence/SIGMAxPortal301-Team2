{
 "cells": [
  {
   "cell_type": "code",
   "execution_count": null,
   "id": "d207b5ef",
   "metadata": {},
   "outputs": [
    {
     "ename": "",
     "evalue": "",
     "output_type": "error",
     "traceback": [
      "\u001b[1;31m현재 셀 또는 이전 셀에서 코드를 실행하는 동안 Kernel이 충돌했습니다. \n",
      "\u001b[1;31m셀의 코드를 검토하여 가능한 오류 원인을 식별하세요. \n",
      "\u001b[1;31m자세한 내용을 보려면 <a href='https://aka.ms/vscodeJupyterKernelCrash'>여기</a>를 클릭하세요. \n",
      "\u001b[1;31m자세한 내용은 Jupyter <a href='command:jupyter.viewOutput'>로그</a>를 참조하세요."
     ]
    }
   ],
   "source": [
    "import sys\n",
    "import importlib.util\n",
    "\n",
    "src_dir = r\"C:\\Users\\rigel\\Documents\\시그마 프로젝트\\repo\\SIGMAxPortal301-Team2\\src\"\n",
    "\n",
    "sys.path.append(src_dir)\n",
    "\n",
    "# src_path = r\"C:\\Users\\rigel\\Documents\\시그마 프로젝트\\repo\\SIGMAxPortal301-Team2\\src\\wrapper.py\"\n",
    "# spec = importlib.util.spec_from_file_location(\"src\", src_path)\n",
    "# sigmaportal = importlib.util.module_from_spec(spec)\n",
    "# spec.loader.exec_module(sigmaportal)"
   ]
  },
  {
   "cell_type": "code",
   "execution_count": null,
   "id": "b3ee3f5a",
   "metadata": {},
   "outputs": [],
   "source": []
  }
 ],
 "metadata": {
  "kernelspec": {
   "display_name": "final2",
   "language": "python",
   "name": "python3"
  },
  "language_info": {
   "codemirror_mode": {
    "name": "ipython",
    "version": 3
   },
   "file_extension": ".py",
   "mimetype": "text/x-python",
   "name": "python",
   "nbconvert_exporter": "python",
   "pygments_lexer": "ipython3",
   "version": "3.11.5"
  }
 },
 "nbformat": 4,
 "nbformat_minor": 5
}
