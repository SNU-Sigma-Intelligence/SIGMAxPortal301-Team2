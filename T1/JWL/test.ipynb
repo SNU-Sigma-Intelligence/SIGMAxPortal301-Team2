{
 "cells": [
  {
   "cell_type": "code",
   "execution_count": null,
   "id": "d207b5ef",
   "metadata": {},
   "outputs": [],
   "source": [
    "import sys\n",
    "import importlib.util\n",
    "\n",
    "src_dir = r\"C:\\Users\\rigel\\Documents\\시그마 프로젝트\\repo\\SIGMAxPortal301-Team2\\src\"\n",
    "\n",
    "sys.path.append(src_dir)\n",
    "\n",
    "# src_path = r\"C:\\Users\\rigel\\Documents\\시그마 프로젝트\\repo\\SIGMAxPortal301-Team2\\src\\wrapper.py\"\n",
    "# spec = importlib.util.spec_from_file_location(\"src\", src_path)\n",
    "# sigmaportal = importlib.util.module_from_spec(spec)\n",
    "# spec.loader.exec_module(sigmaportal)"
   ]
  },
  {
   "cell_type": "code",
   "execution_count": null,
   "id": "b3ee3f5a",
   "metadata": {},
   "outputs": [],
   "source": []
  }
 ],
 "metadata": {
  "kernelspec": {
   "display_name": "final2",
   "language": "python",
   "name": "python3"
  },
  "language_info": {
   "codemirror_mode": {
    "name": "ipython",
    "version": 3
   },
   "file_extension": ".py",
   "mimetype": "text/x-python",
   "name": "python",
   "nbconvert_exporter": "python",
   "pygments_lexer": "ipython3",
   "version": "3.11.5"
  }
 },
 "nbformat": 4,
 "nbformat_minor": 5
}
