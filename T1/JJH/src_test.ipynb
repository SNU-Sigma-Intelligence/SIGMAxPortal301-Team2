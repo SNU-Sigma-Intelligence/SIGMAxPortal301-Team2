{
 "cells": [
  {
   "cell_type": "code",
   "execution_count": 4,
   "id": "6f478980",
   "metadata": {},
   "outputs": [],
   "source": [
    "import sys\n",
    "import importlib.util\n",
    "\n",
    "src_dir = \"C:/Users/jjeon/Desktop/3_S/SIGMA/SIGMAxPortal301-Team2/src\"\n",
    "\n",
    "sys.path.append(src_dir)\n",
    "from wrapper import *"
   ]
  },
  {
   "cell_type": "markdown",
   "id": "0d52e37b",
   "metadata": {},
   "source": [
    "# 함수 사용 예시 !"
   ]
  },
  {
   "cell_type": "code",
   "execution_count": null,
   "id": "8e641dfb",
   "metadata": {},
   "outputs": [
    {
     "ename": "ValueError",
     "evalue": "Failed to read any frames from video.",
     "output_type": "error",
     "traceback": [
      "\u001b[31m---------------------------------------------------------------------------\u001b[39m",
      "\u001b[31mValueError\u001b[39m                                Traceback (most recent call last)",
      "\u001b[36mCell\u001b[39m\u001b[36m \u001b[39m\u001b[32mIn[7]\u001b[39m\u001b[32m, line 2\u001b[39m\n\u001b[32m      1\u001b[39m video_path = \u001b[33m'\u001b[39m\u001b[33mC:/Users/jjeon/Desktop/3_S/SIGMAxPortal301-Team2/심화과제_1/video/1.mp4\u001b[39m\u001b[33m'\u001b[39m\n\u001b[32m----> \u001b[39m\u001b[32m2\u001b[39m video = \u001b[43mread_video_to_tensor\u001b[49m\u001b[43m(\u001b[49m\u001b[43mvideo_path\u001b[49m\u001b[43m,\u001b[49m\u001b[43m \u001b[49m\u001b[43mframe_step\u001b[49m\u001b[43m=\u001b[49m\u001b[32;43m5\u001b[39;49m\u001b[43m,\u001b[49m\u001b[43m \u001b[49m\u001b[43mmax_frame\u001b[49m\u001b[43m=\u001b[49m\u001b[32;43m250\u001b[39;49m\u001b[43m)\u001b[49m\n",
      "\u001b[36mFile \u001b[39m\u001b[32mC:\\Users/jjeon/Desktop/3_S/SIGMA/SIGMAxPortal301-Team2/src\\utils.py:95\u001b[39m, in \u001b[36mread_video_to_tensor\u001b[39m\u001b[34m(path, frame_step, max_frame)\u001b[39m\n\u001b[32m     92\u001b[39m cap.release()\n\u001b[32m     94\u001b[39m \u001b[38;5;28;01mif\u001b[39;00m \u001b[38;5;129;01mnot\u001b[39;00m frames:\n\u001b[32m---> \u001b[39m\u001b[32m95\u001b[39m     \u001b[38;5;28;01mraise\u001b[39;00m \u001b[38;5;167;01mValueError\u001b[39;00m(\u001b[33m\"\u001b[39m\u001b[33mFailed to read any frames from video.\u001b[39m\u001b[33m\"\u001b[39m)\n\u001b[32m     97\u001b[39m \u001b[38;5;28;01mreturn\u001b[39;00m torch.stack(frames)\n",
      "\u001b[31mValueError\u001b[39m: Failed to read any frames from video."
     ]
    }
   ],
   "source": [
    "video_path = 'C:/Users/jjeon/Desktop/3_S/SIGMA/SIGMAxPortal301-Team2/심화과제_1/video/1.mp4'\n",
    "video = read_video_to_tensor(video_path, frame_step=5, max_frame=250)"
   ]
  },
  {
   "cell_type": "code",
   "execution_count": 3,
   "id": "d5376d8e",
   "metadata": {},
   "outputs": [
    {
     "name": "stdout",
     "output_type": "stream",
     "text": [
      "torch.Size([50, 3, 1080, 1920])\n"
     ]
    }
   ],
   "source": [
    "print(video.shape)"
   ]
  },
  {
   "cell_type": "markdown",
   "id": "2f4a79b4",
   "metadata": {},
   "source": [
    "The output feature vector for each SIFT keypoint is 128-dimensional because:\n",
    "\t•\tSIFT (Scale-Invariant Feature Transform) computes a descriptor for each detected keypoint by:\n",
    "\t•\tDividing a 16×16 region around the keypoint into 4×4 subregions (16 in total),\n",
    "\t•\tCalculating an 8-bin orientation histogram for each subregion.\n",
    "\n",
    "So, the total descriptor size is:\n",
    "\n",
    "4 × 4 subregions × 8 orientation bins = 128 dimensions\n",
    "\n",
    "This 128-dimensional vector captures local gradient structure, making the descriptor robust to changes in scale, rotation, and illumination."
   ]
  },
  {
   "cell_type": "markdown",
   "id": "fbe8bbc4",
   "metadata": {},
   "source": []
  }
 ],
 "metadata": {
  "kernelspec": {
   "display_name": "venv",
   "language": "python",
   "name": "python3"
  },
  "language_info": {
   "codemirror_mode": {
    "name": "ipython",
    "version": 3
   },
   "file_extension": ".py",
   "mimetype": "text/x-python",
   "name": "python",
   "nbconvert_exporter": "python",
   "pygments_lexer": "ipython3",
   "version": "3.13.1"
  }
 },
 "nbformat": 4,
 "nbformat_minor": 5
}
