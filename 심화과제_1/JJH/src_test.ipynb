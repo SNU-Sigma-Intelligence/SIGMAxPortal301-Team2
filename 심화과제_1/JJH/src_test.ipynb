{
 "cells": [
  {
   "cell_type": "code",
   "execution_count": 1,
   "id": "6f478980",
   "metadata": {},
   "outputs": [],
   "source": [
    "import sys\n",
    "import importlib.util\n",
    "\n",
    "src_dir = \"/home/ubuntu/SML/SIGMAxPortal301-Team2/src\"\n",
    "\n",
    "sys.path.append(src_dir)\n",
    "\n",
    "src_path = \"/home/ubuntu/SML/SIGMAxPortal301-Team2/src/wrapper.py\"\n",
    "spec = importlib.util.spec_from_file_location(\"sigmaportal\", src_path)\n",
    "sigmaportal = importlib.util.module_from_spec(spec)\n",
    "spec.loader.exec_module(sigmaportal)"
   ]
  },
  {
   "cell_type": "markdown",
   "id": "0d52e37b",
   "metadata": {},
   "source": [
    "# 함수 사용 예시 !"
   ]
  },
  {
   "cell_type": "code",
   "execution_count": 2,
   "id": "8e641dfb",
   "metadata": {},
   "outputs": [],
   "source": [
    "video_path = '/home/ubuntu/SML/SIGMAxPortal301-Team2/심화과제_1/video/1.mp4'\n",
    "video = sigmaportal.read_video_to_tensor(video_path, frame_step=5, max_frame=250)"
   ]
  },
  {
   "cell_type": "code",
   "execution_count": 3,
   "id": "d5376d8e",
   "metadata": {},
   "outputs": [
    {
     "name": "stdout",
     "output_type": "stream",
     "text": [
      "torch.Size([50, 3, 1080, 1920])\n"
     ]
    }
   ],
   "source": [
    "print(video.shape)"
   ]
  },
  {
   "cell_type": "markdown",
   "id": "2f4a79b4",
   "metadata": {},
   "source": [
    "The output feature vector for each SIFT keypoint is 128-dimensional because:\n",
    "\t•\tSIFT (Scale-Invariant Feature Transform) computes a descriptor for each detected keypoint by:\n",
    "\t•\tDividing a 16×16 region around the keypoint into 4×4 subregions (16 in total),\n",
    "\t•\tCalculating an 8-bin orientation histogram for each subregion.\n",
    "\n",
    "So, the total descriptor size is:\n",
    "\n",
    "4 × 4 subregions × 8 orientation bins = 128 dimensions\n",
    "\n",
    "This 128-dimensional vector captures local gradient structure, making the descriptor robust to changes in scale, rotation, and illumination."
   ]
  },
  {
   "cell_type": "markdown",
   "id": "fbe8bbc4",
   "metadata": {},
   "source": []
  }
 ],
 "metadata": {
  "kernelspec": {
   "display_name": "Python 3",
   "language": "python",
   "name": "python3"
  },
  "language_info": {
   "codemirror_mode": {
    "name": "ipython",
    "version": 3
   },
   "file_extension": ".py",
   "mimetype": "text/x-python",
   "name": "python",
   "nbconvert_exporter": "python",
   "pygments_lexer": "ipython3",
   "version": "3.11.10"
  }
 },
 "nbformat": 4,
 "nbformat_minor": 5
}
